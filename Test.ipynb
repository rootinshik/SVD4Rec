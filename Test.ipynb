{
 "cells": [
  {
   "cell_type": "markdown",
   "id": "7f6ca425",
   "metadata": {},
   "source": [
    "# Тестирование библиотеки для матричного разложения с использованием градиентного спуска"
   ]
  },
  {
   "cell_type": "markdown",
   "id": "4cd1c1ce-b65d-4db5-8f4f-e293195c25fa",
   "metadata": {},
   "source": [
    "## Оглавлние"
   ]
  },
  {
   "cell_type": "markdown",
   "id": "da921339-22bd-4259-8345-33c568111675",
   "metadata": {
    "tags": []
   },
   "source": [
    "1. Импорт библиотек\n",
    "2. Загрузка и обработка данных\n",
    "3. Тестирование \n",
    "    1. Тестирование написанной библиотеки\n",
    "    2. Сравнение с готовыми решениями\n",
    "    3. Сравнение с реализацией на Python (Время работы)"
   ]
  },
  {
   "cell_type": "markdown",
   "id": "c56ffd7b",
   "metadata": {},
   "source": [
    "## Импорт библиотек"
   ]
  },
  {
   "cell_type": "code",
   "execution_count": 1,
   "id": "98b3740e",
   "metadata": {
    "tags": []
   },
   "outputs": [],
   "source": [
    "# Функция для равномерного распределения\n",
    "from random import uniform\n",
    "\n",
    "# Библиотеки для работы с данными\n",
    "import numpy as np\n",
    "import pandas as pd\n",
    "import matplotlib.pyplot as plt\n",
    "\n",
    "# Метрика nBCG@k\n",
    "from sklearn.metrics import ndcg_score\n",
    "\n",
    "# Библиотека с реализацией разложения \n",
    "import SVD4Rec\n",
    "\n",
    "# Готовое решение\n",
    "from surprise import SVD\n",
    "from surprise.model_selection import GridSearchCV, RandomizedSearchCV\n",
    "from surprise import Dataset, Reader"
   ]
  },
  {
   "cell_type": "markdown",
   "id": "305e4b7f",
   "metadata": {},
   "source": [
    "## Загрузка и обработка данных"
   ]
  },
  {
   "cell_type": "code",
   "execution_count": 2,
   "id": "4f59c0f7",
   "metadata": {},
   "outputs": [
    {
     "data": {
      "text/html": [
       "<div>\n",
       "<style scoped>\n",
       "    .dataframe tbody tr th:only-of-type {\n",
       "        vertical-align: middle;\n",
       "    }\n",
       "\n",
       "    .dataframe tbody tr th {\n",
       "        vertical-align: top;\n",
       "    }\n",
       "\n",
       "    .dataframe thead th {\n",
       "        text-align: right;\n",
       "    }\n",
       "</style>\n",
       "<table border=\"1\" class=\"dataframe\">\n",
       "  <thead>\n",
       "    <tr style=\"text-align: right;\">\n",
       "      <th></th>\n",
       "      <th>userId</th>\n",
       "      <th>movieId</th>\n",
       "      <th>rating</th>\n",
       "      <th>timestamp</th>\n",
       "    </tr>\n",
       "  </thead>\n",
       "  <tbody>\n",
       "    <tr>\n",
       "      <th>0</th>\n",
       "      <td>1</td>\n",
       "      <td>1</td>\n",
       "      <td>4.0</td>\n",
       "      <td>964982703</td>\n",
       "    </tr>\n",
       "    <tr>\n",
       "      <th>1</th>\n",
       "      <td>1</td>\n",
       "      <td>3</td>\n",
       "      <td>4.0</td>\n",
       "      <td>964981247</td>\n",
       "    </tr>\n",
       "    <tr>\n",
       "      <th>2</th>\n",
       "      <td>1</td>\n",
       "      <td>6</td>\n",
       "      <td>4.0</td>\n",
       "      <td>964982224</td>\n",
       "    </tr>\n",
       "  </tbody>\n",
       "</table>\n",
       "</div>"
      ],
      "text/plain": [
       "   userId  movieId  rating  timestamp\n",
       "0       1        1     4.0  964982703\n",
       "1       1        3     4.0  964981247\n",
       "2       1        6     4.0  964982224"
      ]
     },
     "execution_count": 2,
     "metadata": {},
     "output_type": "execute_result"
    }
   ],
   "source": [
    "film_rating = pd.read_csv('data/ml-latest-small/ratings.csv')\n",
    "film_rating.head(3)"
   ]
  },
  {
   "cell_type": "code",
   "execution_count": 3,
   "id": "45b71435",
   "metadata": {},
   "outputs": [
    {
     "data": {
      "text/plain": [
       "rating\n",
       "4.0    26818\n",
       "3.0    20047\n",
       "5.0    13211\n",
       "3.5    13136\n",
       "4.5     8551\n",
       "2.0     7551\n",
       "2.5     5550\n",
       "1.0     2811\n",
       "1.5     1791\n",
       "0.5     1370\n",
       "Name: count, dtype: int64"
      ]
     },
     "execution_count": 3,
     "metadata": {},
     "output_type": "execute_result"
    }
   ],
   "source": [
    "film_rating['rating'].value_counts()"
   ]
  },
  {
   "cell_type": "code",
   "execution_count": 4,
   "id": "ba62494c",
   "metadata": {},
   "outputs": [],
   "source": [
    "film_rating = film_rating.drop('timestamp', axis=1)"
   ]
  },
  {
   "cell_type": "code",
   "execution_count": 5,
   "id": "3458e9c4",
   "metadata": {},
   "outputs": [
    {
     "name": "stdout",
     "output_type": "stream",
     "text": [
      "Количество фильмов - 9724, количество пользователей - 610\n"
     ]
    }
   ],
   "source": [
    "n_users = film_rating['userId'].unique().shape[0]\n",
    "n_items = film_rating['movieId'].unique().shape[0]\n",
    "print(f'Количество фильмов - {n_items}, количество пользователей - {n_users}')"
   ]
  },
  {
   "cell_type": "code",
   "execution_count": 6,
   "id": "fe4c2fce",
   "metadata": {},
   "outputs": [],
   "source": [
    "film_rating = film_rating.pivot(index='userId', columns='movieId', values='rating')"
   ]
  },
  {
   "cell_type": "code",
   "execution_count": 7,
   "id": "d3278114",
   "metadata": {},
   "outputs": [
    {
     "name": "stdout",
     "output_type": "stream",
     "text": [
      "Процент пустых значений: 98.3%\n"
     ]
    }
   ],
   "source": [
    "nan_film_rating = round(film_rating.isna().sum().sum() / film_rating.shape[0] / film_rating.shape[1] * 100, 3)\n",
    "print(f'Процент пустых значений: {nan_film_rating}%')"
   ]
  },
  {
   "cell_type": "markdown",
   "id": "e1227122-70f2-448a-901b-3bab34595e52",
   "metadata": {},
   "source": [
    "## Тестирование"
   ]
  },
  {
   "cell_type": "markdown",
   "id": "97332001-173e-4436-8abd-fa604d96c1ba",
   "metadata": {},
   "source": [
    "### Тестирование написанной библиотеки"
   ]
  },
  {
   "cell_type": "markdown",
   "id": "5b6cf32c",
   "metadata": {},
   "source": [
    "Получим векторные представления пользователей $P$ и векторные представления товаров $Q$ на основе матрицы рейтингов.\n",
    "\n",
    "Тогда наша исходная матрица аппроксимируется следующим образом: $$ R_{n \\times m} \\approx P_{n \\times k} \\times Q_{k \\times m}^T$$\n",
    "\n",
    "$n$, $m$, $k$ - количество пользователей, количество товаров, размерность вектора представления товара и пользователя (гиперпараметр) соответственно."
   ]
  },
  {
   "cell_type": "markdown",
   "id": "fdd78b41",
   "metadata": {},
   "source": [
    "#### MSE"
   ]
  },
  {
   "cell_type": "markdown",
   "id": "353a3eab",
   "metadata": {},
   "source": [
    "Для начала посчитаем $MSE$ на всех данных.\n",
    "\n",
    "Так как мы решаем задачу невыпуклой оптимизации с помощью стохастического градиентного спуска, то каждый раз мы будем получаеть разные локальные минимумы. Имеет смысл провести несколько запусков и усреднить значение $MSE$."
   ]
  },
  {
   "cell_type": "code",
   "execution_count": 8,
   "id": "b1454ce1",
   "metadata": {},
   "outputs": [],
   "source": [
    "R = film_rating.to_numpy()"
   ]
  },
  {
   "cell_type": "code",
   "execution_count": 9,
   "id": "f86458f6",
   "metadata": {},
   "outputs": [
    {
     "name": "stdout",
     "output_type": "stream",
     "text": [
      "Mean MSE = 2.0966897992637246\n",
      "Mean RMSE = 1.4479950964225412\n"
     ]
    }
   ],
   "source": [
    "MSE = 0\n",
    "P, Q = SVD4Rec.LFM_SGD(R)\n",
    "for i in range(R.shape[0]):\n",
    "    for j in range(R.shape[1]):\n",
    "        if not np.isnan(R[i, j]):\n",
    "            MSE += (R[i, j] - P[i] @ Q[j]) ** 2\n",
    "\n",
    "MSE = 1 / film_rating.notna().sum().sum() * MSE\n",
    "\n",
    "print(f'Mean MSE = {MSE}', f'Mean RMSE = {np.sqrt(MSE)}', sep='\\n')"
   ]
  },
  {
   "cell_type": "markdown",
   "id": "7717ef10",
   "metadata": {},
   "source": [
    "Получаем $MSE = 1.5339$ и $RMSE = 1.2385$, что является неплохим показателем.\n",
    "\n",
    "Посчитаем $MSE$ на тестовых данных для этогого разложим нашу матрицу на две (на $train$ и на $test$ в отношении $0.1$)."
   ]
  },
  {
   "cell_type": "code",
   "execution_count": 10,
   "id": "40e1e0fa",
   "metadata": {},
   "outputs": [],
   "source": [
    "def train_test_split(R, test_size=.1):\n",
    "    R_train = R.copy()\n",
    "    test = []\n",
    "    for i in range(R_train.shape[0]):\n",
    "        for j in range(R_train.shape[1]):\n",
    "            if not np.isnan(R_train[i, j]) and uniform(0, 1) < test_size:\n",
    "                test.append((i, j))\n",
    "                R_train[i, j] = np.nan\n",
    "    return R_train, test"
   ]
  },
  {
   "cell_type": "code",
   "execution_count": 11,
   "id": "aaea4786",
   "metadata": {},
   "outputs": [
    {
     "name": "stdout",
     "output_type": "stream",
     "text": [
      "MSE = 3.5527440509833292\n",
      "RMSE = 1.8848724229993206\n"
     ]
    }
   ],
   "source": [
    "R_train, test = train_test_split(R)\n",
    "MSE = 0\n",
    "P, Q = SVD4Rec.LFM_SGD(R_train)\n",
    "for i, j in test:\n",
    "    MSE += (R[i, j] - P[i] @ Q[j]) ** 2\n",
    "MSE = 1 / len(test) * MSE\n",
    "\n",
    "print(f'MSE = {MSE}', f'RMSE = {np.sqrt(MSE)}', sep='\\n')"
   ]
  },
  {
   "cell_type": "markdown",
   "id": "8e185b5f",
   "metadata": {},
   "source": [
    "Получили качество $MSE = 3.0816$ и $RMSE = 1.7555$.\n",
    "\n",
    "Можно продолжить улучшение наших метрик добавлением валидационной выборки $valid$, являющейся частью $test$ выборки. Валидационную выборку имеет смысл использовать, чтобы не измерять качество на тестовой и не переобучаться под неё, так как подразумевается, что значения тестовой выборки мы не знаем. А также валидационная выборка позволит найти лучшее значение гипперпараметра $k$.\n",
    "\n",
    "*Можно продолжить и дальше - применить кросс-валидацию, но остановимся лишь на добавлении валидационной выборки.*"
   ]
  },
  {
   "cell_type": "code",
   "execution_count": 12,
   "id": "85117c13",
   "metadata": {},
   "outputs": [],
   "source": [
    "def make_valid_sample(R, test_size=.1, valid_size=.5):\n",
    "    R_train, test = train_test_split(R, test_size)\n",
    "    valid = test[int(valid_size*len(test)):]\n",
    "    test =  test[:int(valid_size*len(test))]\n",
    "    return R_train, valid, test"
   ]
  },
  {
   "cell_type": "code",
   "execution_count": 13,
   "id": "88049ac1",
   "metadata": {},
   "outputs": [],
   "source": [
    "R_train, valid, test = make_valid_sample(R)\n",
    "best_P_Q = None\n",
    "best_MSE = np.inf"
   ]
  },
  {
   "cell_type": "code",
   "execution_count": 14,
   "id": "b13b8f6a",
   "metadata": {},
   "outputs": [
    {
     "name": "stdout",
     "output_type": "stream",
     "text": [
      "MSE = 1.0500109680341019\n",
      "RMSE = 1.024700428434624\n",
      "best k = 1\n"
     ]
    }
   ],
   "source": [
    "for num_iter in [250]: # range(10, 250, 10):\n",
    "    for k in [1]: #range(1, 20):\n",
    "        MSE = 0\n",
    "        P, Q = SVD4Rec.LFM_SGD(R_train, num_iter=num_iter, k=k)\n",
    "        for i, j in valid:\n",
    "            MSE += (R[i, j] - P[i] @ Q[j]) ** 2\n",
    "        MSE = 1 / len(test) * MSE\n",
    "        if MSE < best_MSE:\n",
    "            best_P_Q = (P, Q)\n",
    "            best_MSE = MSE\n",
    "\n",
    "MSE = 0\n",
    "P, Q = best_P_Q\n",
    "for i, j in test:\n",
    "    MSE += (R[i, j] - P[i] @ Q[j]) ** 2\n",
    "MSE = 1 / len(test) * MSE\n",
    "\n",
    "print(f'MSE = {MSE}', f'RMSE = {np.sqrt(MSE)}', f'best k = {P.shape[1]}', sep='\\n')"
   ]
  },
  {
   "cell_type": "markdown",
   "id": "2d716c36",
   "metadata": {},
   "source": [
    "Получили $MSE = 1.1648$ и $RMSE = 1.0793$. \n",
    "\n",
    "*Для рассчета дальнейших метрик будем брать лучшее разложение.*"
   ]
  },
  {
   "cell_type": "markdown",
   "id": "65e4983b",
   "metadata": {},
   "source": [
    "#### precision@k"
   ]
  },
  {
   "cell_type": "markdown",
   "id": "d1df695a",
   "metadata": {},
   "source": [
    "$$ precision@k(q) = \\frac{1}{k} \\sum_{i=1}^k [y_{(i)} = 1] \\ , \\qquad precision@k(q) \\rightarrow 1$$\n",
    "\n",
    "Доля реливантных товаров среди $k$ первых. $q$ - конкретные запрос, в данном случае это пользователь. $y_{(i)}$ - предсказание для товара на $i$ позиции для отсортированного списка документов. $[y_{(i)} = 1]$ - индикаторная функция."
   ]
  },
  {
   "cell_type": "markdown",
   "id": "e9c76310",
   "metadata": {},
   "source": [
    "#### AP@k"
   ]
  },
  {
   "cell_type": "markdown",
   "id": "b0581138",
   "metadata": {},
   "source": [
    "$$ AP@k(q) = \\frac{1}{\\sum_{i=1}^k y_{(i)}} \\sum_{i=1}^k y_{(i)} \\cdot precision@i(q)\\ , \\qquad AP@k(q) \\rightarrow 1$$\n",
    "\n",
    "В отличие от precision@k учитывает порядок."
   ]
  },
  {
   "cell_type": "markdown",
   "id": "f9b02bc0",
   "metadata": {},
   "source": [
    "#### DCG@k"
   ]
  },
  {
   "cell_type": "markdown",
   "id": "faf12137",
   "metadata": {},
   "source": [
    "$$ DCG@k(q) = \\sum_{k=1}^i g(y_{(i)}) \\cdot d(i)\\ , \\qquad  DCG@k(q) \\rightarrow \\max$$ \n",
    "$$ \\text{Обычно:} \\qquad g(y) = 2^y \\quad \\text{и} \\quad d(i) = \\frac{1}{\\log_{2}(i + 1)}$$\n",
    "\n",
    "В отличие от двух метрик выше, работают не с бинарной классификацией. Она нам подходит, только она не интерпритируема. Её нужно нормализовать, к примеру, поделить на $\\max$."
   ]
  },
  {
   "cell_type": "markdown",
   "id": "84b34698",
   "metadata": {},
   "source": [
    "#### nDCG@k"
   ]
  },
  {
   "cell_type": "markdown",
   "id": "f04421e5",
   "metadata": {},
   "source": [
    "$$ nDCG@k(q) = \\frac{DCG@k(q)}{\\max DCG@k(q)} \\ , \\qquad nDCG@k(q) \\rightarrow 1$$\n",
    "\n",
    "Теперь метрика стала интерпритируема. Её и будем использовать.\n",
    "\n",
    "Есть более хитрые каскадные метрики, но они избыточны для данной задачи.\n",
    "\n",
    "Выберем пользователей, которые оцениили больше $200$ фильмов. "
   ]
  },
  {
   "cell_type": "code",
   "execution_count": 15,
   "id": "eae0e4c2",
   "metadata": {},
   "outputs": [],
   "source": [
    "R = pd.DataFrame(R)\n",
    "actual_rating = R.loc[R.T.sum() > 200, :].index.to_list()\n",
    "for i, j in test:\n",
    "    if i in actual_rating:\n",
    "        if type(actual_rating[i]) != list:\n",
    "            actual_rating[i] = []\n",
    "        actual_rating[i].append((i, j, R.T[i][j]))\n",
    "\n",
    "test_ratings = []\n",
    "for i in range(len(actual_rating)):\n",
    "    if type(actual_rating[i]) == list and len(actual_rating[i]) > 5:\n",
    "        test_ratings.append(actual_rating[i])\n",
    "r = (P @ Q.T)\n",
    "\n",
    "predict_ratings = []\n",
    "for i in range(len(test_ratings)):\n",
    "    tmp = []\n",
    "    for j in range(len(test_ratings[i])):\n",
    "        tmp.append((test_ratings[i][j][0], test_ratings[i][j][1], r[test_ratings[i][j][0]][test_ratings[i][j][1]]))\n",
    "    predict_ratings.append(tmp)\n",
    "\n",
    "test_ratings = [[test_ratings[i][j][2] for j in range(len(test_ratings[i]))] for i in range(len(test_ratings))]\n",
    "predict_ratings = [[predict_ratings[i][j][2] for j in range(len(predict_ratings[i]))] for i in range(len(predict_ratings))]"
   ]
  },
  {
   "cell_type": "code",
   "execution_count": 16,
   "id": "71a36daf",
   "metadata": {},
   "outputs": [
    {
     "name": "stdout",
     "output_type": "stream",
     "text": [
      "Среднее количество оставленных оценок пользователем (в тестовых данных): 26\n"
     ]
    }
   ],
   "source": [
    "mean = 0\n",
    "for i in range(len(test_ratings)):\n",
    "    mean += len(test_ratings[i])\n",
    "\n",
    "print(f'Среднее количество оставленных оценок пользователем (в тестовых данных): {round(mean / len(test_ratings))}')"
   ]
  },
  {
   "cell_type": "code",
   "execution_count": 17,
   "id": "2b756f4a",
   "metadata": {},
   "outputs": [],
   "source": [
    "k = list(range(1, 35))\n",
    "mean_nbsg = [sum(ndcg_score([test_ratings[i]], [predict_ratings[i]], k=k)/len(test_ratings) \n",
    "                for i in range(len(test_ratings))) for k in k]"
   ]
  },
  {
   "cell_type": "code",
   "execution_count": 18,
   "id": "e97a0bf0",
   "metadata": {},
   "outputs": [
    {
     "data": {
      "image/png": "[encoded data removed]",
      "text/plain": [
       "<Figure size 640x480 with 1 Axes>"
      ]
     },
     "metadata": {},
     "output_type": "display_data"
    }
   ],
   "source": [
    "plt.plot(k, mean_nbsg, 'bo-', linewidth=2)\n",
    "plt.grid()\n",
    "plt.ylabel('$mean \\_ nbsg@k$')\n",
    "plt.xlabel('$k$')\n",
    "plt.show()"
   ]
  },
  {
   "cell_type": "markdown",
   "id": "4cc09ad6",
   "metadata": {},
   "source": [
    "Для примера, посчитаем $nbsg@30$. "
   ]
  },
  {
   "cell_type": "code",
   "execution_count": 19,
   "id": "376b486e",
   "metadata": {},
   "outputs": [
    {
     "data": {
      "text/plain": [
       "0.9209489473540043"
      ]
     },
     "execution_count": 19,
     "metadata": {},
     "output_type": "execute_result"
    }
   ],
   "source": [
    "mean_nbsg[30]"
   ]
  },
  {
   "cell_type": "markdown",
   "id": "def40782-9f4f-44cc-834d-61102dfa16e1",
   "metadata": {},
   "source": [
    "### Сравнение с готовыми решениями"
   ]
  },
  {
   "cell_type": "markdown",
   "id": "501dac6a",
   "metadata": {},
   "source": [
    "На данный момент есть достаточное количество \"коробочных решений\" для рекомендательных систем, самые популярные среди них: **Implicit** и **LightFM**. Но мы будем использовать **Surprise**."
   ]
  },
  {
   "cell_type": "markdown",
   "id": "018a08ef",
   "metadata": {},
   "source": [
    "Предобработаем данные для того, чтобы использовать **Surprise**."
   ]
  },
  {
   "cell_type": "code",
   "execution_count": 20,
   "id": "a94c5989",
   "metadata": {},
   "outputs": [],
   "source": [
    "tmp = pd.DataFrame(R_train).reset_index()\n",
    "tmp = pd.melt(tmp, id_vars='index').reset_index()\\\n",
    "    .reindex(columns=['index', 'variable', 'value'])\\\n",
    "    .rename({'index': 'user_id', 'variable': 'film_id', 'value': 'rating'}, axis=1)\\\n",
    "    .dropna()\\\n",
    "    .reset_index(drop=True)\n",
    "\n",
    "tmp['film_id'] = tmp['film_id'].astype('int')\n",
    "tmp['user_id'] = tmp['user_id'].astype('int')\n",
    "\n",
    "reader = Reader(rating_scale=(1, 5))\n",
    "data = Dataset.load_from_df(tmp[['user_id', 'film_id', 'rating']], reader=reader)\n"
   ]
  },
  {
   "cell_type": "markdown",
   "id": "b9e043eb",
   "metadata": {},
   "source": [
    "Подберем гипперпараметры с помощью кросс-валидации"
   ]
  },
  {
   "cell_type": "code",
   "execution_count": 21,
   "id": "08fdf3a0",
   "metadata": {},
   "outputs": [],
   "source": [
    "params= {\n",
    "    'n_factors': [100], # [1, 2, 5, 10, 20, 25, 50, 75, 100],\n",
    "    \"n_epochs\": [200], # [5, 10, 25, 50, 100, 150, 200], \n",
    "    \"lr_all\": [.005], # [0.002, 0.005, 0.0025, 0.01, 0.0035], \n",
    "    \"reg_all\": [.1] # [0.4, 0.6, 0.2, 0.1, 0.5]\n",
    "    }"
   ]
  },
  {
   "cell_type": "code",
   "execution_count": 22,
   "id": "249a0816",
   "metadata": {},
   "outputs": [],
   "source": [
    "best_model = RandomizedSearchCV(SVD,\n",
    "                                param_distributions=params,\n",
    "                                measures=['rmse', 'mse'],\n",
    "                                cv=5,\n",
    "                                n_jobs=-1,\n",
    "                                n_iter=1, # 300\n",
    "                                refit=True\n",
    "            )"
   ]
  },
  {
   "cell_type": "code",
   "execution_count": 23,
   "id": "82051e25",
   "metadata": {},
   "outputs": [],
   "source": [
    "best_model.fit(data)"
   ]
  },
  {
   "cell_type": "code",
   "execution_count": 24,
   "id": "4c23ddf1",
   "metadata": {},
   "outputs": [
    {
     "data": {
      "text/plain": [
       "{'rmse': 0.8552843662633872, 'mse': 0.7315419233623907}"
      ]
     },
     "execution_count": 24,
     "metadata": {},
     "output_type": "execute_result"
    }
   ],
   "source": [
    "best_model.best_score"
   ]
  },
  {
   "cell_type": "markdown",
   "id": "2ba19180",
   "metadata": {},
   "source": [
    "Получили $RMSE = 0.8551$ и $MSE = 0.7313$.\n",
    "\n",
    "Лучшие гипперпараметры:"
   ]
  },
  {
   "cell_type": "code",
   "execution_count": 25,
   "id": "3484f5bd",
   "metadata": {},
   "outputs": [
    {
     "data": {
      "text/plain": [
       "{'rmse': {'n_factors': 100, 'n_epochs': 200, 'lr_all': 0.005, 'reg_all': 0.1},\n",
       " 'mse': {'n_factors': 100, 'n_epochs': 200, 'lr_all': 0.005, 'reg_all': 0.1}}"
      ]
     },
     "execution_count": 25,
     "metadata": {},
     "output_type": "execute_result"
    }
   ],
   "source": [
    "best_model.best_params"
   ]
  },
  {
   "cell_type": "code",
   "execution_count": 26,
   "id": "fe2cddf4",
   "metadata": {},
   "outputs": [],
   "source": [
    "R = pd.DataFrame(R)\n",
    "actual_rating = R.loc[R.T.sum() > 200, :].index.to_list()\n",
    "for i, j in test:\n",
    "    if i in actual_rating:\n",
    "        if type(actual_rating[i]) != list:\n",
    "            actual_rating[i] = []\n",
    "        actual_rating[i].append((i, j, R.T[i][j]))\n",
    "\n",
    "test_ratings = []\n",
    "for i in range(len(actual_rating)):\n",
    "    if type(actual_rating[i]) == list and len(actual_rating[i]) > 5:\n",
    "        test_ratings.append(actual_rating[i])\n",
    "\n",
    "predict_ratings = []\n",
    "for i in range(len(test_ratings)):\n",
    "    tmp = []\n",
    "    for j in range(len(test_ratings[i])):\n",
    "        tmp.append((test_ratings[i][j][0], test_ratings[i][j][1], best_model.predict(i, j)[3]))\n",
    "    predict_ratings.append(tmp)\n",
    "\n",
    "test_ratings = [[test_ratings[i][j][2] for j in range(len(test_ratings[i]))] for i in range(len(test_ratings))]\n",
    "predict_ratings = [[predict_ratings[i][j][2] for j in range(len(predict_ratings[i]))] for i in range(len(predict_ratings))]"
   ]
  },
  {
   "cell_type": "code",
   "execution_count": 27,
   "id": "79e3db6d",
   "metadata": {},
   "outputs": [],
   "source": [
    "k = list(range(1, 35))\n",
    "mean_nbsg_a = [sum(ndcg_score([test_ratings[i]], [predict_ratings[i]], k=k)/len(test_ratings) \n",
    "                for i in range(len(test_ratings))) for k in k]"
   ]
  },
  {
   "cell_type": "code",
   "execution_count": 28,
   "id": "867ed0e4",
   "metadata": {},
   "outputs": [
    {
     "data": {
      "image/png": "[encoded data removed]",
      "text/plain": [
       "<Figure size 640x480 with 1 Axes>"
      ]
     },
     "metadata": {},
     "output_type": "display_data"
    }
   ],
   "source": [
    "plt.plot(k, mean_nbsg, 'bo-', linewidth=2)\n",
    "plt.plot(k, mean_nbsg_a, 'ro-', linewidth=2)\n",
    "plt.grid()\n",
    "plt.ylabel('$mean \\_ nbsg@k$')\n",
    "plt.xlabel('$k$')\n",
    "plt.show()"
   ]
  },
  {
   "cell_type": "markdown",
   "id": "2e107096-563e-4f65-89cd-f06d214bd9a5",
   "metadata": {},
   "source": [
    "### Сравнение с реализацией на Python (время работы)"
   ]
  },
  {
   "cell_type": "markdown",
   "id": "cba3b880",
   "metadata": {},
   "source": [
    "Для сравнения возьмем лишь часть данных $R_{1000 \\times 1000}$."
   ]
  },
  {
   "cell_type": "code",
   "execution_count": 29,
   "id": "2c6bdf2b",
   "metadata": {},
   "outputs": [],
   "source": [
    "def LFM_SGD(R, eps=0.01, num_iter=5000, k=5, lr=0.0003, reg=0.5, batch_size=50):\n",
    "    num_users, num_items = R.shape\n",
    "\n",
    "    P = np.random.uniform(0, 5, size=(num_users, k))\n",
    "    Q = np.random.uniform(0, 5, size=(num_items, k))\n",
    "\n",
    "    def scal_prod(P, Q):\n",
    "        return np.dot(P, Q.T)\n",
    "\n",
    "    for iter in range(num_iter):\n",
    "        loss = 0\n",
    "        for batch in range(num_users // batch_size):\n",
    "            user_indices = np.arange(batch * batch_size, min((batch + 1) * batch_size, num_users))\n",
    "            np.random.shuffle(user_indices)\n",
    "\n",
    "            batch_P = P[user_indices]\n",
    "            batch_R = R[user_indices]\n",
    "\n",
    "            err = batch_R - np.dot(batch_P, Q.T)\n",
    "\n",
    "            P[user_indices] += lr * (2 * np.dot(err, Q) - reg * batch_P)\n",
    "            Q += lr * (2 * np.dot(err.T, batch_P) - reg * Q)\n",
    "\n",
    "            loss += np.sum(err**2)\n",
    "\n",
    "        loss /= (num_users * num_items)\n",
    "        if loss < eps:\n",
    "            break\n",
    "\n",
    "    return P, Q"
   ]
  },
  {
   "cell_type": "code",
   "execution_count": 30,
   "id": "65d8f58d",
   "metadata": {},
   "outputs": [],
   "source": [
    "R = pd.DataFrame(R).iloc[:1000, :1000].to_numpy()"
   ]
  },
  {
   "cell_type": "code",
   "execution_count": 31,
   "id": "24deca15",
   "metadata": {},
   "outputs": [
    {
     "name": "stdout",
     "output_type": "stream",
     "text": [
      "CPU times: user 2.97 s, sys: 29.2 ms, total: 3 s\n",
      "Wall time: 3.13 s\n"
     ]
    }
   ],
   "source": [
    "%%time\n",
    "P, Q = SVD4Rec.LFM_SGD(R)"
   ]
  },
  {
   "cell_type": "code",
   "execution_count": 32,
   "id": "9a7f75b1",
   "metadata": {},
   "outputs": [
    {
     "name": "stdout",
     "output_type": "stream",
     "text": [
      "CPU times: user 41.6 s, sys: 54.1 ms, total: 41.7 s\n",
      "Wall time: 42.1 s\n"
     ]
    }
   ],
   "source": [
    "%%time\n",
    "P, Q = LFM_SGD(R)"
   ]
  },
  {
   "cell_type": "markdown",
   "id": "9b0fce88",
   "metadata": {},
   "source": [
    "Время работы функции на **C++** $3.56$ секунд, тогда как на **Python** $54.3$."
   ]
  }
 ],
 "metadata": {
  "kernelspec": {
   "display_name": "Python 3 (ipykernel)",
   "language": "python",
   "name": "python3"
  },
  "language_info": {
   "codemirror_mode": {
    "name": "ipython",
    "version": 3
   },
   "file_extension": ".py",
   "mimetype": "text/x-python",
   "name": "python",
   "nbconvert_exporter": "python",
   "pygments_lexer": "ipython3",
   "version": "3.8.16"
  },
  "toc-autonumbering": false,
  "toc-showmarkdowntxt": false,
  "toc-showtags": false
 },
 "nbformat": 4,
 "nbformat_minor": 5
}
